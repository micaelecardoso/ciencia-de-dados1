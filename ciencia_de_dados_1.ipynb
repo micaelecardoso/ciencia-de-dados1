{
 "cells": [
  {
   "cell_type": "markdown",
   "id": "4792e3d7-7cb8-430b-b022-5ab088dbfa81",
   "metadata": {
    "panel-layout": {
     "height": 93.5625,
     "visible": true,
     "width": 100
    }
   },
   "source": [
    "# Jupyter_notebook_micaelecardoso\n",
    "Sobre a atividade, tive facilidade no exercício 1, pois não foi meu primeiro contato com pyhton, porém nas outras etapas demorei a compreender os enunciados e por consequência não sabia exatamente como proceder nos exercícios _(ex: não tava conseguindo inserir o comando conda list, demorei uma eternidade pra solucionar um error ao ler o documento xls, etc)_, mas após diversas tentativas e erros, finalmente entendi e tive êxito no desenrolar da atividade _**(eu acho)**_."
   ]
  },
  {
   "cell_type": "markdown",
   "id": "9db33069-8ebf-4670-9ec9-7790f4f8cac6",
   "metadata": {},
   "source": [
    "# EXERCÍCIO 1"
   ]
  },
  {
   "cell_type": "markdown",
   "id": "f9d3e155-635a-43bb-b3db-aa5521ff77ff",
   "metadata": {
    "jp-MarkdownHeadingCollapsed": true
   },
   "source": [
    "## Verificando pacotes do Anaconda"
   ]
  },
  {
   "cell_type": "code",
   "execution_count": 65,
   "id": "6d8796ff-4d76-425c-b913-b7bbf1917a7a",
   "metadata": {},
   "outputs": [
    {
     "name": "stdout",
     "output_type": "stream",
     "text": [
      "# packages in environment at C:\\Users\\mikae\\anaconda3:\n",
      "#\n",
      "# Name                    Version                   Build  Channel\n",
      "_anaconda_depends         2024.10             py312_mkl_0  \n",
      "aiobotocore               2.12.3          py312haa95532_0  \n",
      "aiohappyeyeballs          2.4.0           py312haa95532_0  \n",
      "aiohttp                   3.10.5          py312h827c3e9_0  \n",
      "aioitertools              0.7.1              pyhd3eb1b0_0  \n",
      "aiosignal                 1.2.0              pyhd3eb1b0_0  \n",
      "alabaster                 0.7.16          py312haa95532_0  \n",
      "altair                    5.0.1           py312haa95532_0  \n",
      "anaconda-anon-usage       0.4.4           py312hfc23b7f_100  \n",
      "anaconda-catalogs         0.2.0           py312haa95532_1  \n",
      "anaconda-client           1.12.3          py312haa95532_0  \n",
      "anaconda-cloud-auth       0.5.1           py312haa95532_0  \n",
      "anaconda-navigator        2.6.3           py312haa95532_0  \n",
      "anaconda-project          0.11.1          py312haa95532_0  \n",
      "anaconda_powershell_prompt 1.1.0                haa95532_0  \n",
      "anaconda_prompt           1.1.0                haa95532_0  \n",
      "annotated-types           0.6.0           py312haa95532_0  \n",
      "anyio                     4.2.0           py312haa95532_0  \n",
      "aom                       3.6.0                hd77b12b_0  \n",
      "appdirs                   1.4.4              pyhd3eb1b0_0  \n",
      "archspec                  0.2.3              pyhd3eb1b0_0  \n",
      "argon2-cffi               21.3.0             pyhd3eb1b0_0  \n",
      "argon2-cffi-bindings      21.2.0          py312h2bbff1b_0  \n",
      "arrow                     1.2.3           py312haa95532_1  \n",
      "arrow-cpp                 16.1.0               h7cd61ee_0  \n",
      "astroid                   2.14.2          py312haa95532_0  \n",
      "astropy                   6.1.3           py312h827c3e9_0  \n",
      "astropy-iers-data         0.2024.9.2.0.33.23 py312haa95532_0  \n",
      "asttokens                 2.0.5              pyhd3eb1b0_0  \n",
      "async-lru                 2.0.4           py312haa95532_0  \n",
      "atomicwrites              1.4.0                      py_0  \n",
      "attrs                     23.1.0          py312haa95532_0  \n",
      "automat                   20.2.0                     py_0  \n",
      "autopep8                  2.0.4              pyhd3eb1b0_0  \n",
      "aws-c-auth                0.6.19               h2bbff1b_0  \n",
      "aws-c-cal                 0.5.20               h2bbff1b_0  \n",
      "aws-c-common              0.8.5                h2bbff1b_0  \n",
      "aws-c-compression         0.2.16               h2bbff1b_0  \n",
      "aws-c-event-stream        0.2.15               hd77b12b_0  \n",
      "aws-c-http                0.6.25               h2bbff1b_0  \n",
      "aws-c-io                  0.13.10              h2bbff1b_0  \n",
      "aws-c-mqtt                0.7.13               h2bbff1b_0  \n",
      "aws-c-s3                  0.1.51               h2bbff1b_0  \n",
      "aws-c-sdkutils            0.1.6                h2bbff1b_0  \n",
      "aws-checksums             0.1.13               h2bbff1b_0  \n",
      "aws-crt-cpp               0.18.16              hd77b12b_0  \n",
      "aws-sdk-cpp               1.10.55              hd77b12b_0  \n",
      "babel                     2.11.0          py312haa95532_0  \n",
      "bcrypt                    3.2.0           py312h2bbff1b_1  \n",
      "beautifulsoup4            4.12.3          py312haa95532_0  \n",
      "binaryornot               0.4.4              pyhd3eb1b0_1  \n",
      "black                     24.8.0          py312haa95532_0  \n",
      "blas                      1.0                         mkl  \n",
      "bleach                    4.1.0              pyhd3eb1b0_0  \n",
      "blinker                   1.6.2           py312haa95532_0  \n",
      "blosc                     1.21.3               h6c2663c_0  \n",
      "bokeh                     3.6.0           py312haa95532_0  \n",
      "boltons                   23.0.0          py312haa95532_0  \n",
      "boost-cpp                 1.82.0               h59b6b97_2  \n",
      "botocore                  1.34.69         py312haa95532_0  \n",
      "bottleneck                1.3.7           py312he558020_0  \n",
      "brotli                    1.0.9                h2bbff1b_8  \n",
      "brotli-bin                1.0.9                h2bbff1b_8  \n",
      "brotli-python             1.0.9           py312hd77b12b_8  \n",
      "bzip2                     1.0.8                h2bbff1b_6  \n",
      "c-ares                    1.19.1               h2bbff1b_0  \n",
      "c-blosc2                  2.12.0               h2f4ed9d_0  \n",
      "ca-certificates           2025.2.25            haa95532_0    anaconda\n",
      "cachetools                5.3.3           py312haa95532_0  \n",
      "certifi                   2025.1.31       py312haa95532_0    anaconda\n",
      "cffi                      1.17.1          py312h827c3e9_0  \n",
      "cfitsio                   3.470                h2bbff1b_7  \n",
      "chardet                   4.0.0           py312haa95532_1003  \n",
      "charls                    2.2.0                h6c2663c_0  \n",
      "charset-normalizer        3.3.2              pyhd3eb1b0_0  \n",
      "click                     8.1.7           py312haa95532_0  \n",
      "cloudpickle               3.0.0           py312haa95532_0  \n",
      "colorama                  0.4.6           py312haa95532_0  \n",
      "colorcet                  3.1.0           py312haa95532_0  \n",
      "comm                      0.2.1           py312haa95532_0  \n",
      "conda                     24.11.3         py312haa95532_0    anaconda\n",
      "conda-build               24.9.0          py312haa95532_0  \n",
      "conda-content-trust       0.2.0           py312haa95532_1  \n",
      "conda-index               0.5.0           py312haa95532_0  \n",
      "conda-libmamba-solver     24.9.0             pyhd3eb1b0_0  \n",
      "conda-pack                0.7.1           py312haa95532_0  \n",
      "conda-package-handling    2.3.0           py312haa95532_0  \n",
      "conda-package-streaming   0.10.0          py312haa95532_0  \n",
      "conda-repo-cli            1.0.114         py312haa95532_0  \n",
      "conda-token               0.5.0              pyhd3eb1b0_0  \n",
      "constantly                23.10.4         py312haa95532_0  \n",
      "contourpy                 1.2.0           py312h59b6b97_0  \n",
      "cookiecutter              2.6.0           py312haa95532_0  \n",
      "cryptography              43.0.0          py312h89fc84f_0  \n",
      "cssselect                 1.2.0           py312haa95532_0  \n",
      "curl                      8.9.1                h3f729d1_0  \n",
      "cycler                    0.11.0             pyhd3eb1b0_0  \n",
      "cytoolz                   0.12.2          py312h2bbff1b_0  \n",
      "dask                      2024.8.2        py312haa95532_0  \n",
      "dask-core                 2024.8.2        py312haa95532_0  \n",
      "dask-expr                 1.1.13          py312haa95532_0  \n",
      "datashader                0.16.3          py312haa95532_0  \n",
      "dav1d                     1.2.1                h2bbff1b_0  \n",
      "debugpy                   1.6.7           py312hd77b12b_0  \n",
      "decorator                 5.1.1              pyhd3eb1b0_0  \n",
      "defusedxml                0.7.1              pyhd3eb1b0_0  \n",
      "diff-match-patch          20200713           pyhd3eb1b0_0  \n",
      "dill                      0.3.8           py312haa95532_0  \n",
      "distributed               2024.8.2        py312haa95532_0  \n",
      "distro                    1.9.0           py312haa95532_0  \n",
      "docstring-to-markdown     0.11            py312haa95532_0  \n",
      "docutils                  0.18.1          py312haa95532_3  \n",
      "et_xmlfile                1.1.0           py312haa95532_1  \n",
      "executing                 0.8.3              pyhd3eb1b0_0  \n",
      "expat                     2.6.3                h5da7b33_0  \n",
      "filelock                  3.13.1          py312haa95532_0  \n",
      "flake8                    7.0.0           py312haa95532_0  \n",
      "flask                     3.0.3           py312haa95532_0  \n",
      "fmt                       9.1.0                h6d14046_1  \n",
      "fonttools                 4.51.0          py312h2bbff1b_0  \n",
      "freetype                  2.12.1               ha860e81_0  \n",
      "frozendict                2.4.2           py312haa95532_0  \n",
      "frozenlist                1.4.0           py312h2bbff1b_0  \n",
      "fsspec                    2024.6.1        py312haa95532_0  \n",
      "gensim                    4.3.3           py312h0158946_0  \n",
      "gflags                    2.2.2                hd77b12b_1  \n",
      "giflib                    5.2.1                h8cc25b3_3  \n",
      "gitdb                     4.0.7              pyhd3eb1b0_0  \n",
      "gitpython                 3.1.43          py312haa95532_0  \n",
      "glog                      0.5.0                hd77b12b_1  \n",
      "greenlet                  3.0.1           py312hd77b12b_0  \n",
      "h11                       0.14.0          py312haa95532_0  \n",
      "h5py                      3.11.0          py312h59a1360_0  \n",
      "hdf5                      1.12.1               h51c971a_3  \n",
      "heapdict                  1.0.1              pyhd3eb1b0_0  \n",
      "holoviews                 1.19.1          py312haa95532_0  \n",
      "httpcore                  1.0.2           py312haa95532_0  \n",
      "httpx                     0.27.0          py312haa95532_0  \n",
      "hvplot                    0.11.0          py312haa95532_0  \n",
      "hyperlink                 21.0.0             pyhd3eb1b0_0  \n",
      "icc_rt                    2022.1.0             h6049295_2  \n",
      "icu                       73.1                 h6c2663c_0  \n",
      "idna                      3.7             py312haa95532_0  \n",
      "imagecodecs               2023.1.23       py312hd5bf116_1  \n",
      "imageio                   2.33.1          py312haa95532_0  \n",
      "imagesize                 1.4.1           py312haa95532_0  \n",
      "imbalanced-learn          0.12.3          py312haa95532_1  \n",
      "importlib-metadata        7.0.1           py312haa95532_0  \n",
      "incremental               22.10.0            pyhd3eb1b0_0  \n",
      "inflection                0.5.1           py312haa95532_1  \n",
      "iniconfig                 1.1.1              pyhd3eb1b0_0  \n",
      "intake                    2.0.7           py312haa95532_0  \n",
      "intel-openmp              2023.1.0         h59b6b97_46320  \n",
      "intervaltree              3.1.0              pyhd3eb1b0_0  \n",
      "ipykernel                 6.28.0          py312haa95532_0  \n",
      "ipython                   8.27.0          py312haa95532_0  \n",
      "ipython_genutils          0.2.0              pyhd3eb1b0_1  \n",
      "ipywidgets                7.8.1           py312haa95532_0  \n",
      "isort                     5.13.2          py312haa95532_0  \n",
      "itemadapter               0.3.0              pyhd3eb1b0_0  \n",
      "itemloaders               1.1.0           py312haa95532_0  \n",
      "itsdangerous              2.2.0           py312haa95532_0  \n",
      "jaraco.classes            3.2.1              pyhd3eb1b0_0  \n",
      "jedi                      0.19.1          py312haa95532_0  \n",
      "jellyfish                 1.0.1           py312h36a85e1_0  \n",
      "jinja2                    3.1.4           py312haa95532_0  \n",
      "jmespath                  1.0.1           py312haa95532_0  \n",
      "joblib                    1.4.2           py312haa95532_0  \n",
      "jpeg                      9e                   h827c3e9_3  \n",
      "jq                        1.6                  haa95532_1  \n",
      "json5                     0.9.6              pyhd3eb1b0_0  \n",
      "jsonpatch                 1.33            py312haa95532_1  \n",
      "jsonpointer               2.1                pyhd3eb1b0_0  \n",
      "jsonschema                4.23.0          py312haa95532_0  \n",
      "jsonschema-specifications 2023.7.1        py312haa95532_0  \n",
      "jupyter                   1.0.0           py312haa95532_9  \n",
      "jupyter-lsp               2.2.0           py312haa95532_0  \n",
      "jupyter_client            8.6.0           py312haa95532_0  \n",
      "jupyter_console           6.6.3           py312haa95532_1  \n",
      "jupyter_core              5.7.2           py312haa95532_0  \n",
      "jupyter_events            0.10.0          py312haa95532_0  \n",
      "jupyter_server            2.14.1          py312haa95532_0  \n",
      "jupyter_server_terminals  0.4.4           py312haa95532_1  \n",
      "jupyterlab                4.2.5           py312haa95532_0  \n",
      "jupyterlab-variableinspector 3.1.0           py312haa95532_0  \n",
      "jupyterlab_pygments       0.1.2                      py_0  \n",
      "jupyterlab_server         2.27.3          py312haa95532_0  \n",
      "jupyterlab_widgets        1.0.0              pyhd3eb1b0_1  \n",
      "keyring                   24.3.1          py312haa95532_0  \n",
      "kiwisolver                1.4.4           py312hd77b12b_0  \n",
      "krb5                      1.20.1               h5b6d351_0  \n",
      "lazy-object-proxy         1.10.0          py312h2bbff1b_0  \n",
      "lazy_loader               0.4             py312haa95532_0  \n",
      "lcms2                     2.12                 h83e58a3_0  \n",
      "lerc                      3.0                  hd77b12b_0  \n",
      "libabseil                 20240116.2      cxx17_h5da7b33_0  \n",
      "libaec                    1.0.4                h33f27b4_1  \n",
      "libarchive                3.7.4                h9243413_0  \n",
      "libavif                   0.11.1               h2bbff1b_0  \n",
      "libboost                  1.82.0               h3399ecb_2  \n",
      "libbrotlicommon           1.0.9                h2bbff1b_8  \n",
      "libbrotlidec              1.0.9                h2bbff1b_8  \n",
      "libbrotlienc              1.0.9                h2bbff1b_8  \n",
      "libclang                  14.0.6          default_hb5a9fac_1  \n",
      "libclang13                14.0.6          default_h8e68704_1  \n",
      "libcurl                   8.9.1                h0416ee5_0  \n",
      "libdeflate                1.17                 h2bbff1b_1  \n",
      "libevent                  2.1.12               h56d1f94_1  \n",
      "libffi                    3.4.4                hd77b12b_1  \n",
      "libgrpc                   1.62.2               hf25190f_0  \n",
      "libiconv                  1.16                 h2bbff1b_3  \n",
      "liblief                   0.12.3               hd77b12b_0  \n",
      "libmamba                  1.5.8                h99b1521_3  \n",
      "libmambapy                1.5.8           py312h77c03ed_3  \n",
      "libpng                    1.6.39               h8cc25b3_0  \n",
      "libpq                     12.17                h906ac69_0  \n",
      "libprotobuf               4.25.3               hf2fb9eb_0  \n",
      "libsodium                 1.0.18               h62dcd97_0  \n",
      "libsolv                   0.7.24               h23ce68f_1  \n",
      "libspatialindex           1.9.3                h6c2663c_0  \n",
      "libssh2                   1.11.0               h291bd65_0  \n",
      "libthrift                 0.15.0               h4364b78_2  \n",
      "libtiff                   4.5.1                hd77b12b_0  \n",
      "libwebp-base              1.3.2                h2bbff1b_0  \n",
      "libxml2                   2.13.1               h24da03e_2  \n",
      "libxslt                   1.1.41               h0739af5_0  \n",
      "libzopfli                 1.0.3                ha925a31_0  \n",
      "linkify-it-py             2.0.0           py312haa95532_0  \n",
      "llvmlite                  0.43.0          py312hf2fb9eb_0  \n",
      "locket                    1.0.0           py312haa95532_0  \n",
      "lxml                      5.2.1           py312h395c83e_1  \n",
      "lz4                       4.3.2           py312h2bbff1b_0  \n",
      "lz4-c                     1.9.4                h2bbff1b_1  \n",
      "lzo                       2.10                 he774522_2  \n",
      "m2-msys2-runtime          2.5.0.17080.65c939c               3  \n",
      "m2-patch                  2.7.5                         2  \n",
      "m2w64-libwinpthread-git   5.0.0.4634.697f757               2  \n",
      "markdown                  3.4.1           py312haa95532_0  \n",
      "markdown-it-py            2.2.0           py312haa95532_1  \n",
      "markupsafe                2.1.3           py312h2bbff1b_0  \n",
      "matplotlib                3.9.2           py312haa95532_0  \n",
      "matplotlib-base           3.9.2           py312hbdc63d0_0  \n",
      "matplotlib-inline         0.1.6           py312haa95532_0  \n",
      "mccabe                    0.7.0              pyhd3eb1b0_0  \n",
      "mdit-py-plugins           0.3.0           py312haa95532_0  \n",
      "mdurl                     0.1.0           py312haa95532_0  \n",
      "menuinst                  2.1.2           py312h5da7b33_0  \n",
      "mistune                   2.0.4           py312haa95532_0  \n",
      "mkl                       2023.1.0         h6b88ed4_46358  \n",
      "mkl-service               2.4.0           py312h2bbff1b_1  \n",
      "mkl_fft                   1.3.10          py312h827c3e9_0  \n",
      "mkl_random                1.2.7           py312h0158946_0  \n",
      "more-itertools            10.3.0          py312haa95532_0  \n",
      "mpmath                    1.3.0           py312haa95532_0  \n",
      "msgpack-python            1.0.3           py312h59b6b97_0  \n",
      "msys2-conda-epoch         20160418                      1  \n",
      "multidict                 6.0.4           py312h2bbff1b_0  \n",
      "multipledispatch          0.6.0           py312haa95532_0  \n",
      "mypy                      1.11.2          py312h827c3e9_0  \n",
      "mypy_extensions           1.0.0           py312haa95532_0  \n",
      "navigator-updater         0.5.1           py312haa95532_0  \n",
      "nbclient                  0.8.0           py312haa95532_0  \n",
      "nbconvert                 7.16.4          py312haa95532_0  \n",
      "nbformat                  5.10.4          py312haa95532_0  \n",
      "nest-asyncio              1.6.0           py312haa95532_0  \n",
      "networkx                  3.3             py312haa95532_0  \n",
      "nltk                      3.9.1           py312haa95532_0  \n",
      "notebook                  7.2.2           py312haa95532_1  \n",
      "notebook-shim             0.2.3           py312haa95532_0  \n",
      "numba                     0.60.0          py312h0158946_0  \n",
      "numexpr                   2.8.7           py312h96b7d27_0  \n",
      "numpy                     1.26.4          py312hfd52020_0  \n",
      "numpy-base                1.26.4          py312h4dde369_0  \n",
      "numpydoc                  1.7.0           py312haa95532_0  \n",
      "openjpeg                  2.5.2                hae555c5_0  \n",
      "openpyxl                  3.1.5           py312h827c3e9_0  \n",
      "openssl                   3.0.16               h3f729d1_0    anaconda\n",
      "orc                       2.0.1                hd8d391b_0  \n",
      "overrides                 7.4.0           py312haa95532_0  \n",
      "packaging                 24.1            py312haa95532_0  \n",
      "pandas                    2.2.2           py312h0158946_0  \n",
      "pandocfilters             1.5.0              pyhd3eb1b0_0  \n",
      "panel                     1.5.2           py312haa95532_0  \n",
      "param                     2.1.1           py312haa95532_0  \n",
      "paramiko                  2.8.1              pyhd3eb1b0_0  \n",
      "parsel                    1.8.1           py312haa95532_0  \n",
      "parso                     0.8.3              pyhd3eb1b0_0  \n",
      "partd                     1.4.1           py312haa95532_0  \n",
      "pathspec                  0.10.3          py312haa95532_0  \n",
      "patsy                     0.5.6           py312haa95532_0  \n",
      "pcre2                     10.42                h0ff8eda_1  \n",
      "pexpect                   4.8.0              pyhd3eb1b0_3  \n",
      "pickleshare               0.7.5           pyhd3eb1b0_1003  \n",
      "pillow                    10.4.0          py312h827c3e9_0  \n",
      "pip                       24.2            py312haa95532_0  \n",
      "pkce                      1.0.3           py312haa95532_0  \n",
      "pkginfo                   1.10.0          py312haa95532_0  \n",
      "platformdirs              3.10.0          py312haa95532_0  \n",
      "plotly                    5.24.1          py312hfc267ef_0  \n",
      "pluggy                    1.0.0           py312haa95532_1  \n",
      "ply                       3.11            py312haa95532_1  \n",
      "prometheus_client         0.14.1          py312haa95532_0  \n",
      "prompt-toolkit            3.0.43          py312haa95532_0  \n",
      "prompt_toolkit            3.0.43               hd3eb1b0_0  \n",
      "protego                   0.1.16                     py_0  \n",
      "protobuf                  4.25.3          py312h958608f_0  \n",
      "psutil                    5.9.0           py312h2bbff1b_0  \n",
      "ptyprocess                0.7.0              pyhd3eb1b0_2  \n",
      "pure_eval                 0.2.2              pyhd3eb1b0_0  \n",
      "py-cpuinfo                9.0.0           py312haa95532_0  \n",
      "py-lief                   0.12.3          py312hd77b12b_0  \n",
      "pyarrow                   16.1.0          py312h0158946_0  \n",
      "pyasn1                    0.4.8              pyhd3eb1b0_0  \n",
      "pyasn1-modules            0.2.8                      py_0  \n",
      "pybind11-abi              5                    hd3eb1b0_0  \n",
      "pycodestyle               2.11.1          py312haa95532_0  \n",
      "pycosat                   0.6.6           py312h2bbff1b_1  \n",
      "pycparser                 2.21               pyhd3eb1b0_0  \n",
      "pyct                      0.5.0           py312haa95532_0  \n",
      "pycurl                    7.45.3          py312h3f729d1_0  \n",
      "pydantic                  2.8.2           py312haa95532_0  \n",
      "pydantic-core             2.20.1          py312hefb1915_0  \n",
      "pydeck                    0.8.0           py312haa95532_2  \n",
      "pydispatcher              2.0.5           py312haa95532_3  \n",
      "pydocstyle                6.3.0           py312haa95532_0  \n",
      "pyerfa                    2.0.1.4         py312h4b0e54e_0  \n",
      "pyflakes                  3.2.0           py312haa95532_0  \n",
      "pygments                  2.15.1          py312haa95532_1  \n",
      "pyjwt                     2.8.0           py312haa95532_0  \n",
      "pylint                    2.16.2          py312haa95532_0  \n",
      "pylint-venv               3.0.3           py312haa95532_0  \n",
      "pyls-spyder               0.4.0              pyhd3eb1b0_0  \n",
      "pynacl                    1.5.0           py312h8cc25b3_0  \n",
      "pyodbc                    5.1.0           py312h5da7b33_0  \n",
      "pyopenssl                 24.2.1          py312haa95532_0  \n",
      "pyparsing                 3.1.2           py312haa95532_0  \n",
      "pyqt                      5.15.10         py312hd77b12b_0  \n",
      "pyqt5-sip                 12.13.0         py312h2bbff1b_0  \n",
      "pyqtwebengine             5.15.10         py312hd77b12b_0  \n",
      "pysocks                   1.7.1           py312haa95532_0  \n",
      "pytables                  3.10.1          py312ha32dda5_0  \n",
      "pytest                    7.4.4           py312haa95532_0  \n",
      "python                    3.12.7               h14ffc60_0  \n",
      "python-dateutil           2.9.0post0      py312haa95532_2  \n",
      "python-dotenv             0.21.0          py312haa95532_0  \n",
      "python-fastjsonschema     2.16.2          py312haa95532_0  \n",
      "python-json-logger        2.0.7           py312haa95532_0  \n",
      "python-libarchive-c       5.1                pyhd3eb1b0_0  \n",
      "python-lmdb               1.4.1           py312hd77b12b_0  \n",
      "python-lsp-black          2.0.0           py312haa95532_0  \n",
      "python-lsp-jsonrpc        1.1.2              pyhd3eb1b0_0  \n",
      "python-lsp-server         1.10.0          py312haa95532_0  \n",
      "python-slugify            5.0.2              pyhd3eb1b0_0  \n",
      "python-tzdata             2023.3             pyhd3eb1b0_0  \n",
      "pytoolconfig              1.2.6           py312haa95532_0  \n",
      "pytz                      2024.1          py312haa95532_0  \n",
      "pyviz_comms               3.0.2           py312haa95532_0  \n",
      "pywavelets                1.7.0           py312h827c3e9_0  \n",
      "pywin32                   305             py312h2bbff1b_0  \n",
      "pywin32-ctypes            0.2.2           py312haa95532_0  \n",
      "pywinpty                  2.0.10          py312h5da7b33_0  \n",
      "pyyaml                    6.0.1           py312h2bbff1b_0  \n",
      "pyzmq                     25.1.2          py312hd77b12b_0  \n",
      "qdarkstyle                3.2.3              pyhd3eb1b0_0  \n",
      "qstylizer                 0.2.2           py312haa95532_0  \n",
      "qt-main                   5.15.2              h19c9488_10  \n",
      "qt-webengine              5.15.9               h5bd16bc_7  \n",
      "qtawesome                 1.3.1           py312haa95532_0  \n",
      "qtconsole                 5.5.1           py312haa95532_0  \n",
      "qtpy                      2.4.1           py312haa95532_0  \n",
      "queuelib                  1.6.2           py312haa95532_0  \n",
      "re2                       2022.04.01           hd77b12b_0  \n",
      "referencing               0.30.2          py312haa95532_0  \n",
      "regex                     2024.9.11       py312h827c3e9_0  \n",
      "reproc                    14.2.4               hd77b12b_2  \n",
      "reproc-cpp                14.2.4               hd77b12b_2  \n",
      "requests                  2.32.3          py312haa95532_0  \n",
      "requests-file             1.5.1              pyhd3eb1b0_0  \n",
      "requests-toolbelt         1.0.0           py312haa95532_0  \n",
      "rfc3339-validator         0.1.4           py312haa95532_0  \n",
      "rfc3986-validator         0.1.1           py312haa95532_0  \n",
      "rich                      13.7.1          py312haa95532_0  \n",
      "rope                      1.12.0          py312haa95532_0  \n",
      "rpds-py                   0.10.6          py312h062c2fa_0  \n",
      "rtree                     1.0.1           py312h2eaa2aa_0  \n",
      "ruamel.yaml               0.18.6          py312h827c3e9_0  \n",
      "ruamel.yaml.clib          0.2.8           py312h827c3e9_0  \n",
      "ruamel_yaml               0.17.21         py312h2bbff1b_0  \n",
      "s3fs                      2024.6.1        py312haa95532_0  \n",
      "scikit-image              0.24.0          py312h0158946_0  \n",
      "scikit-learn              1.5.1           py312h0158946_0  \n",
      "scipy                     1.13.1          py312hbb039d4_0  \n",
      "scrapy                    2.11.1          py312haa95532_0  \n",
      "seaborn                   0.13.2          py312haa95532_0  \n",
      "semver                    3.0.2           py312haa95532_0  \n",
      "send2trash                1.8.2           py312haa95532_0  \n",
      "service_identity          18.1.0             pyhd3eb1b0_1  \n",
      "setuptools                75.1.0          py312haa95532_0  \n",
      "sip                       6.7.12          py312hd77b12b_0  \n",
      "six                       1.16.0             pyhd3eb1b0_1  \n",
      "smart_open                5.2.1           py312haa95532_0  \n",
      "smmap                     4.0.0              pyhd3eb1b0_0  \n",
      "snappy                    1.2.1                hcdb6601_0  \n",
      "sniffio                   1.3.0           py312haa95532_0  \n",
      "snowballstemmer           2.2.0              pyhd3eb1b0_0  \n",
      "sortedcontainers          2.4.0              pyhd3eb1b0_0  \n",
      "soupsieve                 2.5             py312haa95532_0  \n",
      "sphinx                    7.3.7           py312h827c3e9_0  \n",
      "sphinxcontrib-applehelp   1.0.2              pyhd3eb1b0_0  \n",
      "sphinxcontrib-devhelp     1.0.2              pyhd3eb1b0_0  \n",
      "sphinxcontrib-htmlhelp    2.0.0              pyhd3eb1b0_0  \n",
      "sphinxcontrib-jsmath      1.0.1              pyhd3eb1b0_0  \n",
      "sphinxcontrib-qthelp      1.0.3              pyhd3eb1b0_0  \n",
      "sphinxcontrib-serializinghtml 1.1.10          py312haa95532_0  \n",
      "spyder                    5.5.1           py312haa95532_4  \n",
      "spyder-kernels            2.5.0           py312haa95532_0  \n",
      "sqlalchemy                2.0.34          py312h54f65d0_0  \n",
      "sqlite                    3.45.3               h2bbff1b_0  \n",
      "stack_data                0.2.0              pyhd3eb1b0_0  \n",
      "statsmodels               0.14.2          py312h4b0e54e_0  \n",
      "streamlit                 1.37.1          py312haa95532_0  \n",
      "sympy                     1.13.2          py312haa95532_0  \n",
      "tabulate                  0.9.0           py312haa95532_0  \n",
      "tbb                       2021.8.0             h59b6b97_0  \n",
      "tblib                     1.7.0              pyhd3eb1b0_0  \n",
      "tenacity                  8.2.3           py312haa95532_0  \n",
      "terminado                 0.17.1          py312haa95532_0  \n",
      "text-unidecode            1.3                pyhd3eb1b0_0  \n",
      "textdistance              4.2.1              pyhd3eb1b0_0  \n",
      "threadpoolctl             3.5.0           py312hfc267ef_0  \n",
      "three-merge               0.1.1              pyhd3eb1b0_0  \n",
      "tifffile                  2023.4.12       py312haa95532_0  \n",
      "tinycss2                  1.2.1           py312haa95532_0  \n",
      "tk                        8.6.14               h0416ee5_0  \n",
      "tldextract                5.1.2           py312haa95532_0  \n",
      "toml                      0.10.2             pyhd3eb1b0_0  \n",
      "tomli                     2.0.1           py312haa95532_1  \n",
      "tomlkit                   0.11.1          py312haa95532_0  \n",
      "toolz                     0.12.0          py312haa95532_0  \n",
      "tornado                   6.4.1           py312h827c3e9_0  \n",
      "tqdm                      4.66.5          py312hfc267ef_0  \n",
      "traitlets                 5.14.3          py312haa95532_0  \n",
      "truststore                0.8.0           py312haa95532_0  \n",
      "twisted                   23.10.0         py312haa95532_0  \n",
      "twisted-iocpsupport       1.0.2           py312h2bbff1b_0  \n",
      "typing-extensions         4.11.0          py312haa95532_0  \n",
      "typing_extensions         4.11.0          py312haa95532_0  \n",
      "tzdata                    2024b                h04d1e81_0  \n",
      "uc-micro-py               1.0.1           py312haa95532_0  \n",
      "ujson                     5.10.0          py312h5da7b33_0  \n",
      "unicodedata2              15.1.0          py312h2bbff1b_0  \n",
      "unidecode                 1.3.8           py312haa95532_0  \n",
      "urllib3                   2.2.3           py312haa95532_0  \n",
      "utf8proc                  2.6.1                h2bbff1b_1  \n",
      "vc                        14.40                h2eaa2aa_1  \n",
      "vs2015_runtime            14.40.33807          h98bb1dd_1  \n",
      "w3lib                     2.1.2           py312haa95532_0  \n",
      "watchdog                  4.0.1           py312haa95532_0  \n",
      "wcwidth                   0.2.5              pyhd3eb1b0_0  \n",
      "webencodings              0.5.1           py312haa95532_2  \n",
      "websocket-client          1.8.0           py312haa95532_0  \n",
      "werkzeug                  3.0.3           py312haa95532_0  \n",
      "whatthepatch              1.0.2           py312haa95532_0  \n",
      "wheel                     0.44.0          py312haa95532_0  \n",
      "widgetsnbextension        3.6.6           py312haa95532_0  \n",
      "win_inet_pton             1.1.0           py312haa95532_0  \n",
      "winpty                    0.4.3                         4  \n",
      "wrapt                     1.14.1          py312h2bbff1b_0  \n",
      "xarray                    2023.6.0        py312haa95532_0  \n",
      "xlrd                      2.0.1              pyhd3eb1b0_1    anaconda\n",
      "xlwings                   0.32.1          py312haa95532_0  \n",
      "xyzservices               2022.9.0        py312haa95532_1  \n",
      "xz                        5.4.6                h8cc25b3_1  \n",
      "yaml                      0.2.5                he774522_0  \n",
      "yaml-cpp                  0.8.0                hd77b12b_1  \n",
      "yapf                      0.40.2          py312haa95532_0  \n",
      "yarl                      1.11.0          py312h827c3e9_0  \n",
      "zeromq                    4.3.5                hd77b12b_0  \n",
      "zfp                       1.0.0                hd77b12b_0  \n",
      "zict                      3.0.0           py312haa95532_0  \n",
      "zipp                      3.17.0          py312haa95532_0  \n",
      "zlib                      1.2.13               h8cc25b3_1  \n",
      "zlib-ng                   2.0.7                h2bbff1b_0  \n",
      "zope                      1.0             py312haa95532_1  \n",
      "zope.interface            5.4.0           py312h2bbff1b_0  \n",
      "zstandard                 0.23.0          py312h4fc1ca9_0  \n",
      "zstd                      1.5.6                h8880b57_0  \n"
     ]
    }
   ],
   "source": [
    "!conda list"
   ]
  },
  {
   "cell_type": "markdown",
   "id": "a6efbdde-8989-4aea-acfe-e597d616110d",
   "metadata": {
    "jp-MarkdownHeadingCollapsed": true
   },
   "source": [
    "## Verificando versão do Python"
   ]
  },
  {
   "cell_type": "code",
   "execution_count": 67,
   "id": "f56c6226-d3ac-421b-9105-1a3a64c7f573",
   "metadata": {},
   "outputs": [
    {
     "name": "stdout",
     "output_type": "stream",
     "text": [
      "Python 3.12.7\n"
     ]
    }
   ],
   "source": [
    "!python -V"
   ]
  },
  {
   "cell_type": "markdown",
   "id": "403ec7f3-d59a-45e6-9663-6c3e043c18db",
   "metadata": {
    "jp-MarkdownHeadingCollapsed": true
   },
   "source": [
    "## Loop FOR"
   ]
  },
  {
   "cell_type": "code",
   "execution_count": 68,
   "id": "b260006c-0cb1-4bf4-bf9a-de26145d0c8e",
   "metadata": {},
   "outputs": [
    {
     "name": "stdout",
     "output_type": "stream",
     "text": [
      "0\n",
      "1\n",
      "2\n",
      "3\n",
      "4\n"
     ]
    }
   ],
   "source": [
    "for counter in range(5):\n",
    "    print(counter)"
   ]
  },
  {
   "cell_type": "markdown",
   "id": "a9b6d075-d2f0-40b3-a999-f912c350e75f",
   "metadata": {
    "jp-MarkdownHeadingCollapsed": true
   },
   "source": [
    "## Dicionário de frutas"
   ]
  },
  {
   "cell_type": "code",
   "execution_count": 69,
   "id": "3978325c-f92d-4069-8403-987fa12ab6c8",
   "metadata": {},
   "outputs": [],
   "source": [
    "example_dict = {'apples':5, 'oranges':8, 'bananas':13}"
   ]
  },
  {
   "cell_type": "markdown",
   "id": "b29bb21f-a869-442d-a868-a44577a24d6f",
   "metadata": {
    "jp-MarkdownHeadingCollapsed": true
   },
   "source": [
    "## Conversão do dicionário em lista"
   ]
  },
  {
   "cell_type": "code",
   "execution_count": 70,
   "id": "6fe19486-dd84-4d4f-b36f-4bf7592bbdf8",
   "metadata": {},
   "outputs": [
    {
     "data": {
      "text/plain": [
       "['apples', 'oranges', 'bananas']"
      ]
     },
     "execution_count": 70,
     "metadata": {},
     "output_type": "execute_result"
    }
   ],
   "source": [
    "dict_to_list = list(example_dict)\n",
    "dict_to_list"
   ]
  },
  {
   "cell_type": "markdown",
   "id": "9c2fbbbf-2dbb-479b-8703-e9000796f158",
   "metadata": {},
   "source": [
    "# EXERCÍCIO 2"
   ]
  },
  {
   "cell_type": "markdown",
   "id": "e7383cd4-d7f6-4328-8abd-cc3bd1289cd2",
   "metadata": {
    "jp-MarkdownHeadingCollapsed": true
   },
   "source": [
    "## Bibliotecas e carregamento de dados"
   ]
  },
  {
   "cell_type": "code",
   "execution_count": 1,
   "id": "8c9643ff-af78-4698-b3ee-d46c49159249",
   "metadata": {},
   "outputs": [],
   "source": [
    "import pandas as pd"
   ]
  },
  {
   "cell_type": "code",
   "execution_count": 2,
   "id": "af57e4db-c71d-46e1-a857-61ac53aacb42",
   "metadata": {},
   "outputs": [],
   "source": [
    "df = pd.read_excel(r'C:\\Users\\mikae\\OneDrive\\Documentos\\Faculdade ADS\\Ciência de Dados\\Atividade1\\default_of_credit_card_clients__courseware_version_1_21_19.xls')"
   ]
  },
  {
   "cell_type": "code",
   "execution_count": 3,
   "id": "524d3a12-0af6-4f2f-8e82-3fd36ac5c667",
   "metadata": {},
   "outputs": [
    {
     "name": "stdout",
     "output_type": "stream",
     "text": [
      "<class 'pandas.core.frame.DataFrame'>\n",
      "RangeIndex: 30000 entries, 0 to 29999\n",
      "Data columns (total 25 columns):\n",
      " #   Column                      Non-Null Count  Dtype \n",
      "---  ------                      --------------  ----- \n",
      " 0   ID                          30000 non-null  object\n",
      " 1   LIMIT_BAL                   30000 non-null  int64 \n",
      " 2   SEX                         30000 non-null  int64 \n",
      " 3   EDUCATION                   30000 non-null  int64 \n",
      " 4   MARRIAGE                    30000 non-null  int64 \n",
      " 5   AGE                         30000 non-null  int64 \n",
      " 6   PAY_1                       30000 non-null  object\n",
      " 7   PAY_2                       30000 non-null  int64 \n",
      " 8   PAY_3                       30000 non-null  int64 \n",
      " 9   PAY_4                       30000 non-null  int64 \n",
      " 10  PAY_5                       30000 non-null  int64 \n",
      " 11  PAY_6                       30000 non-null  int64 \n",
      " 12  BILL_AMT1                   30000 non-null  int64 \n",
      " 13  BILL_AMT2                   30000 non-null  int64 \n",
      " 14  BILL_AMT3                   30000 non-null  int64 \n",
      " 15  BILL_AMT4                   30000 non-null  int64 \n",
      " 16  BILL_AMT5                   30000 non-null  int64 \n",
      " 17  BILL_AMT6                   30000 non-null  int64 \n",
      " 18  PAY_AMT1                    30000 non-null  int64 \n",
      " 19  PAY_AMT2                    30000 non-null  int64 \n",
      " 20  PAY_AMT3                    30000 non-null  int64 \n",
      " 21  PAY_AMT4                    30000 non-null  int64 \n",
      " 22  PAY_AMT5                    30000 non-null  int64 \n",
      " 23  PAY_AMT6                    30000 non-null  int64 \n",
      " 24  default payment next month  30000 non-null  int64 \n",
      "dtypes: int64(23), object(2)\n",
      "memory usage: 5.7+ MB\n"
     ]
    }
   ],
   "source": [
    "#VERIFICANDO SE O ARQUIVO FOI CARREGADO CORRETAMENTE\n",
    "df.info()"
   ]
  },
  {
   "cell_type": "markdown",
   "id": "57f1c9bd-da56-468b-8bbe-51ded40dea91",
   "metadata": {},
   "source": [
    "## Exploração de dados"
   ]
  },
  {
   "cell_type": "markdown",
   "id": "175f5b28-61e8-46e9-bed3-8571c60745b1",
   "metadata": {},
   "source": [
    "#### COLUNAS\n"
   ]
  },
  {
   "cell_type": "code",
   "execution_count": 14,
   "id": "c75c0e8b-6b39-4c6e-8e52-acfd779c0f70",
   "metadata": {
    "scrolled": true
   },
   "outputs": [
    {
     "name": "stdout",
     "output_type": "stream",
     "text": [
      "Quantidade de colunas: 25\n"
     ]
    },
    {
     "data": {
      "text/plain": [
       "Index(['ID', 'LIMIT_BAL', 'SEX', 'EDUCATION', 'MARRIAGE', 'AGE', 'PAY_1',\n",
       "       'PAY_2', 'PAY_3', 'PAY_4', 'PAY_5', 'PAY_6', 'BILL_AMT1', 'BILL_AMT2',\n",
       "       'BILL_AMT3', 'BILL_AMT4', 'BILL_AMT5', 'BILL_AMT6', 'PAY_AMT1',\n",
       "       'PAY_AMT2', 'PAY_AMT3', 'PAY_AMT4', 'PAY_AMT5', 'PAY_AMT6',\n",
       "       'default payment next month'],\n",
       "      dtype='object')"
      ]
     },
     "execution_count": 14,
     "metadata": {},
     "output_type": "execute_result"
    }
   ],
   "source": [
    "print(\"Quantidade de colunas:\", df.shape[1])\n",
    "df.columns"
   ]
  },
  {
   "cell_type": "markdown",
   "id": "3fad4fab-1eb1-443c-bbda-cb196acd7258",
   "metadata": {},
   "source": [
    "#### LINHAS"
   ]
  },
  {
   "cell_type": "code",
   "execution_count": 12,
   "id": "4858e889-86f1-49cc-a993-aca9b95296ff",
   "metadata": {},
   "outputs": [
    {
     "name": "stdout",
     "output_type": "stream",
     "text": [
      "Quantidade de linhas: 30000\n"
     ]
    }
   ],
   "source": [
    "print(\"Quantidade de linhas:\", df.shape[0])"
   ]
  },
  {
   "cell_type": "markdown",
   "id": "801cb1cf-e97a-420f-b873-69c35801dcf7",
   "metadata": {},
   "source": [
    "#### TIPOS DE DADOS"
   ]
  },
  {
   "cell_type": "code",
   "execution_count": 15,
   "id": "b4e2dd37-36ae-4ddc-80e4-70437c7cc8f1",
   "metadata": {
    "scrolled": true
   },
   "outputs": [
    {
     "name": "stdout",
     "output_type": "stream",
     "text": [
      "ID                            object\n",
      "LIMIT_BAL                      int64\n",
      "SEX                            int64\n",
      "EDUCATION                      int64\n",
      "MARRIAGE                       int64\n",
      "AGE                            int64\n",
      "PAY_1                          Int64\n",
      "PAY_2                          int64\n",
      "PAY_3                          int64\n",
      "PAY_4                          int64\n",
      "PAY_5                          int64\n",
      "PAY_6                          int64\n",
      "BILL_AMT1                      int64\n",
      "BILL_AMT2                      int64\n",
      "BILL_AMT3                      int64\n",
      "BILL_AMT4                      int64\n",
      "BILL_AMT5                      int64\n",
      "BILL_AMT6                      int64\n",
      "PAY_AMT1                       int64\n",
      "PAY_AMT2                       int64\n",
      "PAY_AMT3                       int64\n",
      "PAY_AMT4                       int64\n",
      "PAY_AMT5                       int64\n",
      "PAY_AMT6                       int64\n",
      "default payment next month     int64\n",
      "dtype: object\n"
     ]
    }
   ],
   "source": [
    "# TIPOS DE DADOS ANTES DA CORREÇÃO\n",
    "\n",
    "print(df.dtypes)"
   ]
  },
  {
   "attachments": {},
   "cell_type": "markdown",
   "id": "ff56b04e-2afe-4200-a365-da3888ddb5b4",
   "metadata": {},
   "source": [
    "Na coluna \"PAY_1\" há o valor \"Not available\", fazendo com que a coluna seja reconhecida como object, como dado categórico e não numérico. O próximo passo é remover os valores \"Not available\"."
   ]
  },
  {
   "cell_type": "code",
   "execution_count": 7,
   "id": "15e76074-da60-4a64-ac4f-fb6d24354f1c",
   "metadata": {},
   "outputs": [
    {
     "data": {
      "text/plain": [
       "PAY_1\n",
       "0                13402\n",
       "-1                5047\n",
       "1                 3261\n",
       "Not available     3021\n",
       "-2                2476\n",
       "2                 2378\n",
       "3                  292\n",
       "4                   63\n",
       "5                   23\n",
       "8                   17\n",
       "6                   11\n",
       "7                    9\n",
       "Name: count, dtype: int64"
      ]
     },
     "execution_count": 7,
     "metadata": {},
     "output_type": "execute_result"
    }
   ],
   "source": [
    "df[\"PAY_1\"].value_counts()"
   ]
  },
  {
   "cell_type": "code",
   "execution_count": 9,
   "id": "f8b8647b-23b1-4c2b-92db-0f2a58e62769",
   "metadata": {},
   "outputs": [],
   "source": [
    "df['PAY_1'] = df['PAY_1'].replace(\"Not available\", pd.NA)\n",
    "df['PAY_1'] = df['PAY_1'].astype('Int64')"
   ]
  },
  {
   "cell_type": "code",
   "execution_count": 10,
   "id": "73073c6c-6d85-4c09-b25f-f8c527ee46f7",
   "metadata": {},
   "outputs": [
    {
     "data": {
      "text/plain": [
       "PAY_1\n",
       "0     13402\n",
       "-1     5047\n",
       "1      3261\n",
       "-2     2476\n",
       "2      2378\n",
       "3       292\n",
       "4        63\n",
       "5        23\n",
       "8        17\n",
       "6        11\n",
       "7         9\n",
       "Name: count, dtype: Int64"
      ]
     },
     "execution_count": 10,
     "metadata": {},
     "output_type": "execute_result"
    }
   ],
   "source": [
    "df[\"PAY_1\"].value_counts()"
   ]
  },
  {
   "cell_type": "code",
   "execution_count": 16,
   "id": "65b30937-f9f3-4eef-9b3c-db263b9f42fd",
   "metadata": {},
   "outputs": [
    {
     "name": "stdout",
     "output_type": "stream",
     "text": [
      "ID                            object\n",
      "LIMIT_BAL                      int64\n",
      "SEX                            int64\n",
      "EDUCATION                      int64\n",
      "MARRIAGE                       int64\n",
      "AGE                            int64\n",
      "PAY_1                          Int64\n",
      "PAY_2                          int64\n",
      "PAY_3                          int64\n",
      "PAY_4                          int64\n",
      "PAY_5                          int64\n",
      "PAY_6                          int64\n",
      "BILL_AMT1                      int64\n",
      "BILL_AMT2                      int64\n",
      "BILL_AMT3                      int64\n",
      "BILL_AMT4                      int64\n",
      "BILL_AMT5                      int64\n",
      "BILL_AMT6                      int64\n",
      "PAY_AMT1                       int64\n",
      "PAY_AMT2                       int64\n",
      "PAY_AMT3                       int64\n",
      "PAY_AMT4                       int64\n",
      "PAY_AMT5                       int64\n",
      "PAY_AMT6                       int64\n",
      "default payment next month     int64\n",
      "dtype: object\n"
     ]
    }
   ],
   "source": [
    "# TIPOS DE DADOS APÓS CORREÇÃO\n",
    "\n",
    "print(df.dtypes)"
   ]
  },
  {
   "cell_type": "markdown",
   "id": "c275eab5-e5a0-4177-9e70-6ee9b4d62d6b",
   "metadata": {},
   "source": [
    "#### COLUNAS CATEGÓRICAS E NUMÉRICAS"
   ]
  },
  {
   "cell_type": "code",
   "execution_count": 20,
   "id": "5e8e6ea2-37f2-4a9c-847c-fca7f4de60ac",
   "metadata": {},
   "outputs": [
    {
     "name": "stdout",
     "output_type": "stream",
     "text": [
      "Colunas categóricas:\n",
      " ['ID']\n",
      "Colunas numéricas:\n",
      " ['LIMIT_BAL', 'SEX', 'EDUCATION', 'MARRIAGE', 'AGE', 'PAY_1', 'PAY_2', 'PAY_3', 'PAY_4', 'PAY_5', 'PAY_6', 'BILL_AMT1', 'BILL_AMT2', 'BILL_AMT3', 'BILL_AMT4', 'BILL_AMT5', 'BILL_AMT6', 'PAY_AMT1', 'PAY_AMT2', 'PAY_AMT3', 'PAY_AMT4', 'PAY_AMT5', 'PAY_AMT6', 'default payment next month']\n"
     ]
    }
   ],
   "source": [
    "categoricas = df.select_dtypes(include=['object'])\n",
    "numericas = df.select_dtypes(include=['number'])\n",
    "print(\"Colunas categóricas:\\n\", categoricas.columns.tolist())\n",
    "print(\"Colunas numéricas:\\n\", numericas.columns.tolist())"
   ]
  },
  {
   "cell_type": "markdown",
   "id": "51b2e155-e972-4077-ad53-ed6ec4e2bbe3",
   "metadata": {},
   "source": [
    "#### APARÊNCIA DOS DADOS"
   ]
  },
  {
   "cell_type": "code",
   "execution_count": 21,
   "id": "70d5b7d2-fb5c-4bdd-8083-94609e4aa691",
   "metadata": {},
   "outputs": [
    {
     "name": "stdout",
     "output_type": "stream",
     "text": [
      "Frequência dos valores em ID:\n",
      "ID\n",
      "ad23fe5c-7b09    2\n",
      "1fb3e3e6-a68d    2\n",
      "89f8f447-fca8    2\n",
      "7c9b7473-cc2f    2\n",
      "90330d02-82d9    2\n",
      "                ..\n",
      "2edeb3a6-d38d    1\n",
      "27e11893-92e9    1\n",
      "2b1c282b-441e    1\n",
      "bd737997-0eb0    1\n",
      "15d69f9f-5ad3    1\n",
      "Name: count, Length: 29687, dtype: int64\n",
      "\n"
     ]
    }
   ],
   "source": [
    "for col in categoricas.columns:\n",
    "    print(f\"Frequência dos valores em {col}:\\n{df[col].value_counts()}\\n\")\n"
   ]
  },
  {
   "cell_type": "markdown",
   "id": "dc816aa3-8dea-4790-b0e9-28cbecbe5a3e",
   "metadata": {},
   "source": [
    "#### VALORES AUSENTES"
   ]
  },
  {
   "cell_type": "code",
   "execution_count": 23,
   "id": "86d38775-8350-4f02-b3a8-93668ea6ae6a",
   "metadata": {},
   "outputs": [
    {
     "name": "stdout",
     "output_type": "stream",
     "text": [
      "Valores ausentes por coluna:\n",
      "\n",
      "ID                               0\n",
      "LIMIT_BAL                        0\n",
      "SEX                              0\n",
      "EDUCATION                        0\n",
      "MARRIAGE                         0\n",
      "AGE                              0\n",
      "PAY_1                         3021\n",
      "PAY_2                            0\n",
      "PAY_3                            0\n",
      "PAY_4                            0\n",
      "PAY_5                            0\n",
      "PAY_6                            0\n",
      "BILL_AMT1                        0\n",
      "BILL_AMT2                        0\n",
      "BILL_AMT3                        0\n",
      "BILL_AMT4                        0\n",
      "BILL_AMT5                        0\n",
      "BILL_AMT6                        0\n",
      "PAY_AMT1                         0\n",
      "PAY_AMT2                         0\n",
      "PAY_AMT3                         0\n",
      "PAY_AMT4                         0\n",
      "PAY_AMT5                         0\n",
      "PAY_AMT6                         0\n",
      "default payment next month       0\n",
      "dtype: int64\n"
     ]
    }
   ],
   "source": [
    "print(\"Valores ausentes por coluna:\\n\")\n",
    "print(df.isnull().sum())\n"
   ]
  }
 ],
 "metadata": {
  "kernelspec": {
   "display_name": "Python 3 (ipykernel)",
   "language": "python",
   "name": "python3"
  },
  "language_info": {
   "codemirror_mode": {
    "name": "ipython",
    "version": 3
   },
   "file_extension": ".py",
   "mimetype": "text/x-python",
   "name": "python",
   "nbconvert_exporter": "python",
   "pygments_lexer": "ipython3",
   "version": "3.12.7"
  },
  "panel-cell-order": [
   "4792e3d7-7cb8-430b-b022-5ab088dbfa81"
  ]
 },
 "nbformat": 4,
 "nbformat_minor": 5
}
